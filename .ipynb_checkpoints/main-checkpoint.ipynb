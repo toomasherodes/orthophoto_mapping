{
 "cells": [
  {
   "cell_type": "code",
   "execution_count": 1,
   "id": "9290a0c1-7137-4891-8641-fc23bfd5f3e0",
   "metadata": {},
   "outputs": [
    {
     "ename": "ModuleNotFoundError",
     "evalue": "No module named 'parseCSV'",
     "output_type": "error",
     "traceback": [
      "\u001b[0;31m---------------------------------------------------------------------------\u001b[0m",
      "\u001b[0;31mModuleNotFoundError\u001b[0m                       Traceback (most recent call last)",
      "Cell \u001b[0;32mIn[1], line 4\u001b[0m\n\u001b[1;32m      2\u001b[0m \u001b[38;5;28;01mimport\u001b[39;00m \u001b[38;5;21;01mPIL\u001b[39;00m\u001b[38;5;21;01m.\u001b[39;00m\u001b[38;5;21;01mImage\u001b[39;00m\n\u001b[1;32m      3\u001b[0m \u001b[38;5;28;01mimport\u001b[39;00m \u001b[38;5;21;01mPIL\u001b[39;00m\u001b[38;5;21;01m.\u001b[39;00m\u001b[38;5;21;01mImageDraw\u001b[39;00m\n\u001b[0;32m----> 4\u001b[0m \u001b[38;5;28;01mfrom\u001b[39;00m \u001b[38;5;21;01mparseCSV\u001b[39;00m \u001b[38;5;28;01mimport\u001b[39;00m get_polygons_from_csv\n\u001b[1;32m      5\u001b[0m \u001b[38;5;28;01mimport\u001b[39;00m \u001b[38;5;21;01mpandas\u001b[39;00m \u001b[38;5;28;01mas\u001b[39;00m \u001b[38;5;21;01mpd\u001b[39;00m\n\u001b[1;32m      6\u001b[0m \u001b[38;5;28;01mimport\u001b[39;00m \u001b[38;5;21;01mos\u001b[39;00m\n",
      "\u001b[0;31mModuleNotFoundError\u001b[0m: No module named 'parseCSV'"
     ]
    }
   ],
   "source": [
    "# !pip install shapely\n",
    "import PIL.Image\n",
    "import PIL.ImageDraw\n",
    "from scr/parseCSV import get_polygons_from_csv\n",
    "import pandas as pd\n",
    "import os\n",
    "from shapely import wkb\n",
    "from shapely.geometry import Polygon\n",
    "\n",
    "\n",
    "\n",
    "def generate_image(output, size, polygons): # polygons is a list of polygons where each polygon is a list of (x, y)-tuples\n",
    "    width, height = size, size\n",
    "    im = PIL.Image.new(mode='RGB', size=(size, size))\n",
    "    draw = PIL.ImageDraw.Draw(im)\n",
    "    for i, corners in enumerate(polygons):\n",
    "        draw.polygon(corners, fill=\"white\")\n",
    "    im.save(output, format='tiff')\n",
    "\n",
    "def image_from_csv():\n",
    "    polygons = get_polygons_from_csv(\"data/csv/data_eesti.csv\")\n",
    "    generate_image(\"data/newTartu.tif\", 25000, polygons)\n",
    "\n",
    "\n",
    "def translate_coord(coords, offset_x=6470000, offset_y=655000, scale=5): # scale is pixels per coord\n",
    "    # default offsets and scale is for square 54752 with scale 1:10000\n",
    "    x = int((coords[0]-offset_x)*scale)\n",
    "    y = int((coords[1]-offset_y)*scale)\n",
    "    return (y, 25000-x)\n",
    "\n",
    "\n",
    "# ei kasuta\n",
    "def wkb_to_coords(w):\n",
    "    if pd.isna(w):\n",
    "        return None\n",
    "    geometry = wkb.loads(bytes.fromhex(str(w)))\n",
    "    return geometry.wkt\n",
    "\n",
    "def wkb_to_polygons(w):\n",
    "    if pd.isna(w):\n",
    "        return None\n",
    "    geometry = wkb.loads(bytes.fromhex(str(w)))\n",
    "    if not isinstance(geometry, Polygon):\n",
    "        return None\n",
    "    polygon = [translate_coord((x, y)) for y, x in geometry.exterior.coords]\n",
    "    if (polygon[0][0] > 26000 or polygon[0][0] < -1000):\n",
    "        return None\n",
    "    if (polygon[0][1] > 26000 or polygon[0][1] < -1000):\n",
    "        return None\n",
    "    return polygon\n",
    "\n",
    "\n",
    "\n",
    "def get_polygons_from_csv(sample_csv_path):\n",
    "    __file__ = os.path.abspath(\"main.ipynb\")\n",
    "    current_dir = os.path.dirname(__file__)\n",
    "    f = open(os.path.join(current_dir, sample_csv_path), encoding='utf-8')\n",
    "    df = pd.read_csv(f, encoding='utf-8', delimiter=';', low_memory=False)\n",
    "    print(df.columns)\n",
    "    \n",
    "    keywords = ['HOONE', 'RAJATIS', 'HOONERAJ']\n",
    "    pattern = '|'.join(keywords)\n",
    "    filtered_df = df[df['nahtus'].str.contains(pattern, case=False, na=False)]\n",
    "    \n",
    "    parsed_geom = filtered_df.geometry.apply(wkb_to_polygons).dropna()\n",
    "    print(\"finished parsing polygons\")\n",
    "    return parsed_geom.tolist()\n",
    "\n",
    "\n",
    "#ei kasuta\n",
    "def leiaVastavKoordinaat(\n",
    "    mootkava, # 1 piksel kaardil : x meetrit irl. Prolly peab eraldi funktsiooni kirjutama.\n",
    "    xTeadaOlevIRL,\n",
    "    yTeadaOlevIRL,\n",
    "    xPildilKoordinaat,\n",
    "    yPildilKoordinaat,\n",
    "    xOtsitavIRL,\n",
    "    yOtsitavIRL\n",
    "):\n",
    "    xVaheIRL = xTeadaOlevIRL - xOtsitavIRL\n",
    "    yVaheIRL = yTeadaOlevIRL - yOtsitavIRL\n",
    "    xPikslitLiigu = xVaheIRL / mootkava\n",
    "    yPikslitLiigu = yVaheIRL / mootkava\n",
    "    return (xPildilKoordinaat + xPikslitLiigu, yPildilKoordinaat + yPikslitLiigu)\n",
    "\n",
    "\n",
    "image_from_csv()"
   ]
  },
  {
   "cell_type": "code",
   "execution_count": 101,
   "id": "64459631-5eba-4bb0-b260-0140e2a52dfc",
   "metadata": {},
   "outputs": [
    {
     "name": "stdout",
     "output_type": "stream",
     "text": [
      "Index(['id', 'ehit_id', 'nliik_kood', 'kuju_jnr', 'gis_kood', 'nimetus',\n",
      "       'sissepaasu_punkt', 'ads_oid', 'geometry', 'kuju_moodustusviis',\n",
      "       'date_created', 'date_updated', 'ehr_kood', 'adob_id', 'ads_liik',\n",
      "       'tyhistatud_kp', 'nahtus', 'taisaadress', 'lahiaadress', 'pindala',\n",
      "       'viitepunkt_x', 'viitepunkt_y', 'geom_updated'],\n",
      "      dtype='object')\n",
      "finished parsing polygons\n"
     ]
    }
   ],
   "source": []
  },
  {
   "cell_type": "code",
   "execution_count": null,
   "id": "be4e7a5c-cca7-4140-b7c1-07386ca5e32a",
   "metadata": {},
   "outputs": [],
   "source": []
  }
 ],
 "metadata": {
  "kernelspec": {
   "display_name": "Python 3 (ipykernel)",
   "language": "python",
   "name": "python3"
  },
  "language_info": {
   "codemirror_mode": {
    "name": "ipython",
    "version": 3
   },
   "file_extension": ".py",
   "mimetype": "text/x-python",
   "name": "python",
   "nbconvert_exporter": "python",
   "pygments_lexer": "ipython3",
   "version": "3.12.2"
  }
 },
 "nbformat": 4,
 "nbformat_minor": 5
}
